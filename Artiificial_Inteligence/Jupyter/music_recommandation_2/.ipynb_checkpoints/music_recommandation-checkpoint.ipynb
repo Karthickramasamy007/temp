{
 "cells": [
  {
   "cell_type": "code",
   "execution_count": 4,
   "id": "0d931928",
   "metadata": {},
   "outputs": [],
   "source": [
    "# SOURCE : https://www.youtube.com/watch?v=7eh4d6sabA0&t=744s&ab_channel=ProgrammingwithMosh\n",
    "\n",
    "import pandas as pd\n",
    "from sklearn.tree import DecisionTreeClassifier # This is the Algorithm we use for prediction\n",
    "from sklearn.model_selection import train_test_split # This is for spliting traning and test data for accuracy validaton.\n",
    "from sklearn.metrics import accuracy_score # This helps to calculate the predictions results accuracy score.\n",
    "import joblib # helps to save and load our model\n",
    "import pickle # Another one to help save and load model\n",
    "\n",
    "music_data = pd.read_csv('music.csv')\n"
   ]
  },
  {
   "cell_type": "code",
   "execution_count": 5,
   "id": "e154526d",
   "metadata": {},
   "outputs": [],
   "source": [
    "X = music_data.drop(columns=['genre']) # This will remove specified column from the give data set and store in X for input dataset\n"
   ]
  },
  {
   "cell_type": "code",
   "execution_count": 6,
   "id": "8c520fb4",
   "metadata": {},
   "outputs": [],
   "source": [
    "Y = music_data['genre'] # This will assign given column in y for output dataset\n"
   ]
  },
  {
   "cell_type": "code",
   "execution_count": 7,
   "id": "ed2cbe4e",
   "metadata": {},
   "outputs": [
    {
     "data": {
      "text/plain": [
       "array(['HipHop', 'Jazz', 'Classical', 'Dance', 'Acoustic'], dtype=object)"
      ]
     },
     "execution_count": 7,
     "metadata": {},
     "output_type": "execute_result"
    }
   ],
   "source": [
    "Y.unique() # This will print only the unique valus form the column"
   ]
  },
  {
   "cell_type": "code",
   "execution_count": 9,
   "id": "c86f06e4",
   "metadata": {},
   "outputs": [
    {
     "data": {
      "text/plain": [
       "1.0"
      ]
     },
     "execution_count": 9,
     "metadata": {},
     "output_type": "execute_result"
    }
   ],
   "source": [
    "# In the above block we used all data for input, But we need to split trainig and test data for measuing accuracy.\n",
    "# For this in the sklearn package we have module called 'model_selection' which has class 'tain_test_split'\n",
    "# This helps to split training and test data set from the actual data set we have.\n",
    "# This will randomly pick train and test data every time we run\n",
    "\n",
    "X_train, X_test, y_train, y_test =  train_test_split(X, Y, test_size=0.2) # X_train, X_test --> input sets. y_train, y_test  --> output sets\n",
    "model.fit(X_train, y_train)\n",
    "predictions = model.predict(X_test)\n",
    "\n",
    "# To calculate the accuracy, we need to compare teh prediction result with actual values in the output set (y_test) we have.\n",
    "# for this we need to import class called accuracy_score from the 'metrics' package.\n",
    "score = accuracy_score(y_test, predictions) # This will return accuracy score btw 0-1\n",
    "score"
   ]
  },
  {
   "cell_type": "code",
   "execution_count": 10,
   "id": "f71f0771",
   "metadata": {},
   "outputs": [],
   "source": [
    "# Now another way, Store mode using Pickle class\n",
    "\n",
    "pickle.dump(model, open('model.pkl', 'wb'))\n"
   ]
  },
  {
   "cell_type": "code",
   "execution_count": null,
   "id": "6841236a",
   "metadata": {},
   "outputs": [],
   "source": []
  }
 ],
 "metadata": {
  "kernelspec": {
   "display_name": "Python 3 (ipykernel)",
   "language": "python",
   "name": "python3"
  },
  "language_info": {
   "codemirror_mode": {
    "name": "ipython",
    "version": 3
   },
   "file_extension": ".py",
   "mimetype": "text/x-python",
   "name": "python",
   "nbconvert_exporter": "python",
   "pygments_lexer": "ipython3",
   "version": "3.9.12"
  }
 },
 "nbformat": 4,
 "nbformat_minor": 5
}
