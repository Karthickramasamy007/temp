{
 "cells": [
  {
   "cell_type": "code",
   "execution_count": 14,
   "id": "0d931928",
   "metadata": {},
   "outputs": [],
   "source": [
    "# SOURCE : https://www.youtube.com/watch?v=7eh4d6sabA0&t=744s&ab_channel=ProgrammingwithMosh\n",
    "\n",
    "import pandas as pd\n",
    "from sklearn.tree import DecisionTreeClassifier # This is the Algorithm we use for prediction\n",
    "from sklearn.model_selection import train_test_split # This is for spliting traning and test data for accuracy validaton.\n",
    "from sklearn.metrics import accuracy_score # This helps to calculate the predictions results accuracy score.\n",
    "import joblib # helps to save and load our model\n",
    "import pickle # Another one to help save and load model\n",
    "\n",
    "music_data = pd.read_csv('music.csv')\n"
   ]
  },
  {
   "cell_type": "code",
   "execution_count": 15,
   "id": "e154526d",
   "metadata": {},
   "outputs": [],
   "source": [
    "X = music_data.drop(columns=['genre']) # This will remove specified column from the give data set and store in X for input dataset\n"
   ]
  },
  {
   "cell_type": "code",
   "execution_count": 16,
   "id": "8c520fb4",
   "metadata": {},
   "outputs": [],
   "source": [
    "Y = music_data['genre'] # This will assign given column in y for output dataset\n"
   ]
  },
  {
   "cell_type": "code",
   "execution_count": 17,
   "id": "ed2cbe4e",
   "metadata": {},
   "outputs": [
    {
     "data": {
      "text/plain": [
       "array(['HipHop', 'Jazz', 'Classical', 'Dance', 'Acoustic'], dtype=object)"
      ]
     },
     "execution_count": 17,
     "metadata": {},
     "output_type": "execute_result"
    }
   ],
   "source": [
    "Y.unique() # This will print only the unique valus form the column"
   ]
  },
  {
   "cell_type": "code",
   "execution_count": 25,
   "id": "c86f06e4",
   "metadata": {},
   "outputs": [
    {
     "name": "stderr",
     "output_type": "stream",
     "text": [
      "C:\\Users\\karth\\anaconda3\\lib\\site-packages\\sklearn\\base.py:450: UserWarning: X does not have valid feature names, but DecisionTreeClassifier was fitted with feature names\n",
      "  warnings.warn(\n"
     ]
    },
    {
     "data": {
      "text/html": [
       "<div>\n",
       "<style scoped>\n",
       "    .dataframe tbody tr th:only-of-type {\n",
       "        vertical-align: middle;\n",
       "    }\n",
       "\n",
       "    .dataframe tbody tr th {\n",
       "        vertical-align: top;\n",
       "    }\n",
       "\n",
       "    .dataframe thead th {\n",
       "        text-align: right;\n",
       "    }\n",
       "</style>\n",
       "<table border=\"1\" class=\"dataframe\">\n",
       "  <thead>\n",
       "    <tr style=\"text-align: right;\">\n",
       "      <th></th>\n",
       "      <th>age</th>\n",
       "      <th>gender</th>\n",
       "    </tr>\n",
       "  </thead>\n",
       "  <tbody>\n",
       "    <tr>\n",
       "      <th>14</th>\n",
       "      <td>30</td>\n",
       "      <td>0</td>\n",
       "    </tr>\n",
       "    <tr>\n",
       "      <th>11</th>\n",
       "      <td>25</td>\n",
       "      <td>0</td>\n",
       "    </tr>\n",
       "    <tr>\n",
       "      <th>8</th>\n",
       "      <td>37</td>\n",
       "      <td>1</td>\n",
       "    </tr>\n",
       "    <tr>\n",
       "      <th>5</th>\n",
       "      <td>30</td>\n",
       "      <td>1</td>\n",
       "    </tr>\n",
       "    <tr>\n",
       "      <th>17</th>\n",
       "      <td>35</td>\n",
       "      <td>0</td>\n",
       "    </tr>\n",
       "    <tr>\n",
       "      <th>0</th>\n",
       "      <td>20</td>\n",
       "      <td>1</td>\n",
       "    </tr>\n",
       "    <tr>\n",
       "      <th>13</th>\n",
       "      <td>27</td>\n",
       "      <td>0</td>\n",
       "    </tr>\n",
       "    <tr>\n",
       "      <th>10</th>\n",
       "      <td>21</td>\n",
       "      <td>0</td>\n",
       "    </tr>\n",
       "    <tr>\n",
       "      <th>4</th>\n",
       "      <td>29</td>\n",
       "      <td>1</td>\n",
       "    </tr>\n",
       "    <tr>\n",
       "      <th>7</th>\n",
       "      <td>33</td>\n",
       "      <td>1</td>\n",
       "    </tr>\n",
       "    <tr>\n",
       "      <th>1</th>\n",
       "      <td>23</td>\n",
       "      <td>1</td>\n",
       "    </tr>\n",
       "    <tr>\n",
       "      <th>16</th>\n",
       "      <td>34</td>\n",
       "      <td>0</td>\n",
       "    </tr>\n",
       "    <tr>\n",
       "      <th>6</th>\n",
       "      <td>31</td>\n",
       "      <td>1</td>\n",
       "    </tr>\n",
       "    <tr>\n",
       "      <th>12</th>\n",
       "      <td>26</td>\n",
       "      <td>0</td>\n",
       "    </tr>\n",
       "  </tbody>\n",
       "</table>\n",
       "</div>"
      ],
      "text/plain": [
       "    age  gender\n",
       "14   30       0\n",
       "11   25       0\n",
       "8    37       1\n",
       "5    30       1\n",
       "17   35       0\n",
       "0    20       1\n",
       "13   27       0\n",
       "10   21       0\n",
       "4    29       1\n",
       "7    33       1\n",
       "1    23       1\n",
       "16   34       0\n",
       "6    31       1\n",
       "12   26       0"
      ]
     },
     "execution_count": 25,
     "metadata": {},
     "output_type": "execute_result"
    }
   ],
   "source": [
    "# In the above block we used all data for input, But we need to split trainig and test data for measuing accuracy.\n",
    "# For this in the sklearn package we have module called 'model_selection' which has class 'tain_test_split'\n",
    "# This helps to split training and test data set from the actual data set we have.\n",
    "# This will randomly pick train and test data every time we run\n",
    "\n",
    "X_train, X_test, y_train, y_test =  train_test_split(X, Y, test_size=0.2) # X_train, X_test --> input sets. y_train, y_test  --> output sets\n",
    "model.fit(X_train, y_train)\n",
    "predictions = model.predict([[22,1]])\n",
    "predictions\n",
    "X_train\n",
    "#predictions = model.predict(X_test)\n"
   ]
  },
  {
   "cell_type": "code",
   "execution_count": 20,
   "id": "f71f0771",
   "metadata": {},
   "outputs": [],
   "source": [
    "# Now another way, Store mode using Pickle class\n",
    "\n",
    "pickle.dump(model, open('model.pkl', 'wb'))\n"
   ]
  },
  {
   "cell_type": "code",
   "execution_count": null,
   "id": "6841236a",
   "metadata": {},
   "outputs": [],
   "source": []
  }
 ],
 "metadata": {
  "kernelspec": {
   "display_name": "Python 3 (ipykernel)",
   "language": "python",
   "name": "python3"
  },
  "language_info": {
   "codemirror_mode": {
    "name": "ipython",
    "version": 3
   },
   "file_extension": ".py",
   "mimetype": "text/x-python",
   "name": "python",
   "nbconvert_exporter": "python",
   "pygments_lexer": "ipython3",
   "version": "3.9.12"
  }
 },
 "nbformat": 4,
 "nbformat_minor": 5
}
